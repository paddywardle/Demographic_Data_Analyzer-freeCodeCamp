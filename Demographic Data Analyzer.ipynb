{
 "cells": [
  {
   "cell_type": "markdown",
   "id": "b90880a3",
   "metadata": {},
   "source": [
    "**Project Scope:**\n",
    "\n",
    "In this challenge you must analyze demographic data using Pandas. You are given a dataset of demographic data that was extracted from the 1994 Census database."
   ]
  },
  {
   "cell_type": "code",
   "execution_count": 2,
   "id": "840a91f6",
   "metadata": {},
   "outputs": [],
   "source": [
    "import pandas as pd"
   ]
  },
  {
   "cell_type": "code",
   "execution_count": 3,
   "id": "072e7f2f",
   "metadata": {},
   "outputs": [],
   "source": [
    "adult_data = pd.read_csv('adult.data.csv')"
   ]
  },
  {
   "cell_type": "code",
   "execution_count": 16,
   "id": "7b043b64",
   "metadata": {},
   "outputs": [
    {
     "data": {
      "text/html": [
       "<div>\n",
       "<style scoped>\n",
       "    .dataframe tbody tr th:only-of-type {\n",
       "        vertical-align: middle;\n",
       "    }\n",
       "\n",
       "    .dataframe tbody tr th {\n",
       "        vertical-align: top;\n",
       "    }\n",
       "\n",
       "    .dataframe thead th {\n",
       "        text-align: right;\n",
       "    }\n",
       "</style>\n",
       "<table border=\"1\" class=\"dataframe\">\n",
       "  <thead>\n",
       "    <tr style=\"text-align: right;\">\n",
       "      <th></th>\n",
       "      <th>age</th>\n",
       "      <th>workclass</th>\n",
       "      <th>fnlwgt</th>\n",
       "      <th>education</th>\n",
       "      <th>education-num</th>\n",
       "      <th>marital-status</th>\n",
       "      <th>occupation</th>\n",
       "      <th>relationship</th>\n",
       "      <th>race</th>\n",
       "      <th>sex</th>\n",
       "      <th>capital-gain</th>\n",
       "      <th>capital-loss</th>\n",
       "      <th>hours-per-week</th>\n",
       "      <th>native-country</th>\n",
       "      <th>salary</th>\n",
       "    </tr>\n",
       "  </thead>\n",
       "  <tbody>\n",
       "    <tr>\n",
       "      <th>0</th>\n",
       "      <td>39</td>\n",
       "      <td>State-gov</td>\n",
       "      <td>77516</td>\n",
       "      <td>Bachelors</td>\n",
       "      <td>13</td>\n",
       "      <td>Never-married</td>\n",
       "      <td>Adm-clerical</td>\n",
       "      <td>Not-in-family</td>\n",
       "      <td>White</td>\n",
       "      <td>Male</td>\n",
       "      <td>2174</td>\n",
       "      <td>0</td>\n",
       "      <td>40</td>\n",
       "      <td>United-States</td>\n",
       "      <td>&lt;=50K</td>\n",
       "    </tr>\n",
       "    <tr>\n",
       "      <th>1</th>\n",
       "      <td>50</td>\n",
       "      <td>Self-emp-not-inc</td>\n",
       "      <td>83311</td>\n",
       "      <td>Bachelors</td>\n",
       "      <td>13</td>\n",
       "      <td>Married-civ-spouse</td>\n",
       "      <td>Exec-managerial</td>\n",
       "      <td>Husband</td>\n",
       "      <td>White</td>\n",
       "      <td>Male</td>\n",
       "      <td>0</td>\n",
       "      <td>0</td>\n",
       "      <td>13</td>\n",
       "      <td>United-States</td>\n",
       "      <td>&lt;=50K</td>\n",
       "    </tr>\n",
       "    <tr>\n",
       "      <th>2</th>\n",
       "      <td>38</td>\n",
       "      <td>Private</td>\n",
       "      <td>215646</td>\n",
       "      <td>HS-grad</td>\n",
       "      <td>9</td>\n",
       "      <td>Divorced</td>\n",
       "      <td>Handlers-cleaners</td>\n",
       "      <td>Not-in-family</td>\n",
       "      <td>White</td>\n",
       "      <td>Male</td>\n",
       "      <td>0</td>\n",
       "      <td>0</td>\n",
       "      <td>40</td>\n",
       "      <td>United-States</td>\n",
       "      <td>&lt;=50K</td>\n",
       "    </tr>\n",
       "    <tr>\n",
       "      <th>3</th>\n",
       "      <td>53</td>\n",
       "      <td>Private</td>\n",
       "      <td>234721</td>\n",
       "      <td>11th</td>\n",
       "      <td>7</td>\n",
       "      <td>Married-civ-spouse</td>\n",
       "      <td>Handlers-cleaners</td>\n",
       "      <td>Husband</td>\n",
       "      <td>Black</td>\n",
       "      <td>Male</td>\n",
       "      <td>0</td>\n",
       "      <td>0</td>\n",
       "      <td>40</td>\n",
       "      <td>United-States</td>\n",
       "      <td>&lt;=50K</td>\n",
       "    </tr>\n",
       "    <tr>\n",
       "      <th>4</th>\n",
       "      <td>28</td>\n",
       "      <td>Private</td>\n",
       "      <td>338409</td>\n",
       "      <td>Bachelors</td>\n",
       "      <td>13</td>\n",
       "      <td>Married-civ-spouse</td>\n",
       "      <td>Prof-specialty</td>\n",
       "      <td>Wife</td>\n",
       "      <td>Black</td>\n",
       "      <td>Female</td>\n",
       "      <td>0</td>\n",
       "      <td>0</td>\n",
       "      <td>40</td>\n",
       "      <td>Cuba</td>\n",
       "      <td>&lt;=50K</td>\n",
       "    </tr>\n",
       "  </tbody>\n",
       "</table>\n",
       "</div>"
      ],
      "text/plain": [
       "   age         workclass  fnlwgt  education  education-num  \\\n",
       "0   39         State-gov   77516  Bachelors             13   \n",
       "1   50  Self-emp-not-inc   83311  Bachelors             13   \n",
       "2   38           Private  215646    HS-grad              9   \n",
       "3   53           Private  234721       11th              7   \n",
       "4   28           Private  338409  Bachelors             13   \n",
       "\n",
       "       marital-status         occupation   relationship   race     sex  \\\n",
       "0       Never-married       Adm-clerical  Not-in-family  White    Male   \n",
       "1  Married-civ-spouse    Exec-managerial        Husband  White    Male   \n",
       "2            Divorced  Handlers-cleaners  Not-in-family  White    Male   \n",
       "3  Married-civ-spouse  Handlers-cleaners        Husband  Black    Male   \n",
       "4  Married-civ-spouse     Prof-specialty           Wife  Black  Female   \n",
       "\n",
       "   capital-gain  capital-loss  hours-per-week native-country salary  \n",
       "0          2174             0              40  United-States  <=50K  \n",
       "1             0             0              13  United-States  <=50K  \n",
       "2             0             0              40  United-States  <=50K  \n",
       "3             0             0              40  United-States  <=50K  \n",
       "4             0             0              40           Cuba  <=50K  "
      ]
     },
     "execution_count": 16,
     "metadata": {},
     "output_type": "execute_result"
    }
   ],
   "source": [
    "adult_data.head()"
   ]
  },
  {
   "cell_type": "markdown",
   "id": "636b56b9",
   "metadata": {},
   "source": [
    "1) How many people of each race are represented in this dataset? This should be a Pandas series with race names as the index labels."
   ]
  },
  {
   "cell_type": "code",
   "execution_count": 14,
   "id": "6bfc402a",
   "metadata": {},
   "outputs": [],
   "source": [
    "num_race = pd.Series(adult_data['race'].value_counts(), index = adult_data['race'].unique())"
   ]
  },
  {
   "cell_type": "code",
   "execution_count": 15,
   "id": "c9387c34",
   "metadata": {
    "scrolled": true
   },
   "outputs": [
    {
     "data": {
      "text/plain": [
       "White                 27816\n",
       "Black                  3124\n",
       "Asian-Pac-Islander     1039\n",
       "Amer-Indian-Eskimo      311\n",
       "Other                   271\n",
       "Name: race, dtype: int64"
      ]
     },
     "execution_count": 15,
     "metadata": {},
     "output_type": "execute_result"
    }
   ],
   "source": [
    "num_race"
   ]
  },
  {
   "cell_type": "markdown",
   "id": "16db5fe4",
   "metadata": {},
   "source": [
    "2) What is the average age of men?"
   ]
  },
  {
   "cell_type": "code",
   "execution_count": 20,
   "id": "a23c8d28",
   "metadata": {
    "scrolled": false
   },
   "outputs": [],
   "source": [
    "gender_means = adult_data.groupby(['sex']).age.mean()"
   ]
  },
  {
   "cell_type": "code",
   "execution_count": 22,
   "id": "995a6a00",
   "metadata": {},
   "outputs": [
    {
     "data": {
      "text/plain": [
       "sex\n",
       "Female    36.858230\n",
       "Male      39.433547\n",
       "Name: age, dtype: float64"
      ]
     },
     "execution_count": 22,
     "metadata": {},
     "output_type": "execute_result"
    }
   ],
   "source": [
    "gender_means"
   ]
  },
  {
   "cell_type": "markdown",
   "id": "58345aff",
   "metadata": {},
   "source": [
    "3) What is the percentage of people who have a Bachelor's degree?"
   ]
  },
  {
   "cell_type": "code",
   "execution_count": 37,
   "id": "77acd525",
   "metadata": {},
   "outputs": [],
   "source": [
    "bachelors_percentage = len(adult_data.education[adult_data.education == 'Bachelors']) / len(adult_data) * 100"
   ]
  },
  {
   "cell_type": "code",
   "execution_count": 38,
   "id": "75a57831",
   "metadata": {},
   "outputs": [
    {
     "data": {
      "text/plain": [
       "16.44605509658794"
      ]
     },
     "execution_count": 38,
     "metadata": {},
     "output_type": "execute_result"
    }
   ],
   "source": [
    "bachelors_percentage"
   ]
  },
  {
   "cell_type": "markdown",
   "id": "20688747",
   "metadata": {},
   "source": [
    "4) What percentage of people with advanced education (Bachelors, Masters, or Doctorate) make more than 50K?"
   ]
  },
  {
   "cell_type": "code",
   "execution_count": 39,
   "id": "974a5793",
   "metadata": {
    "scrolled": true
   },
   "outputs": [
    {
     "data": {
      "text/plain": [
       "HS-grad         10501\n",
       "Some-college     7291\n",
       "Bachelors        5355\n",
       "Masters          1723\n",
       "Assoc-voc        1382\n",
       "11th             1175\n",
       "Assoc-acdm       1067\n",
       "10th              933\n",
       "7th-8th           646\n",
       "Prof-school       576\n",
       "9th               514\n",
       "12th              433\n",
       "Doctorate         413\n",
       "5th-6th           333\n",
       "1st-4th           168\n",
       "Preschool          51\n",
       "Name: education, dtype: int64"
      ]
     },
     "execution_count": 39,
     "metadata": {},
     "output_type": "execute_result"
    }
   ],
   "source": [
    "adult_data.education.value_counts()"
   ]
  },
  {
   "cell_type": "code",
   "execution_count": 53,
   "id": "21f9b4f2",
   "metadata": {},
   "outputs": [
    {
     "data": {
      "text/plain": [
       "array(['<=50K', '>50K'], dtype=object)"
      ]
     },
     "execution_count": 53,
     "metadata": {},
     "output_type": "execute_result"
    }
   ],
   "source": [
    "adult_data.salary.unique()"
   ]
  },
  {
   "cell_type": "code",
   "execution_count": 63,
   "id": "c0c5a5d7",
   "metadata": {},
   "outputs": [],
   "source": [
    "advanced_degree = adult_data[(adult_data.education == 'Doctorate') | (adult_data.education == 'Masters') | (adult_data.education == 'Bachelors')]"
   ]
  },
  {
   "cell_type": "code",
   "execution_count": 66,
   "id": "eda693b1",
   "metadata": {},
   "outputs": [],
   "source": [
    "advanced_degree_over_50K = len(advanced_degree[advanced_degree.salary == '>50K']) / len(advanced_degree) * 100"
   ]
  },
  {
   "cell_type": "code",
   "execution_count": 67,
   "id": "8762ae7c",
   "metadata": {},
   "outputs": [
    {
     "data": {
      "text/plain": [
       "46.535843011613935"
      ]
     },
     "execution_count": 67,
     "metadata": {},
     "output_type": "execute_result"
    }
   ],
   "source": [
    "advanced_degree_over_50K"
   ]
  },
  {
   "cell_type": "markdown",
   "id": "098cf8fa",
   "metadata": {},
   "source": [
    "5) What percentage of people without advanced education make more than 50K?"
   ]
  },
  {
   "cell_type": "code",
   "execution_count": 75,
   "id": "5d2ba0ae",
   "metadata": {},
   "outputs": [],
   "source": [
    "no_advanced_degree = adult_data[(adult_data.education != 'Doctorate') & (adult_data.education != 'Masters') & (adult_data.education != 'Bachelors')]"
   ]
  },
  {
   "cell_type": "code",
   "execution_count": 77,
   "id": "7cbdaa27",
   "metadata": {},
   "outputs": [],
   "source": [
    "no_advanced_degree_over_50K = len(no_advanced_degree[no_advanced_degree.salary == '>50K']) / len(no_advanced_degree) * 100"
   ]
  },
  {
   "cell_type": "code",
   "execution_count": 78,
   "id": "5b2d505d",
   "metadata": {},
   "outputs": [
    {
     "data": {
      "text/plain": [
       "17.3713601914639"
      ]
     },
     "execution_count": 78,
     "metadata": {},
     "output_type": "execute_result"
    }
   ],
   "source": [
    "no_advanced_degree_over_50K"
   ]
  },
  {
   "cell_type": "markdown",
   "id": "b1844ce3",
   "metadata": {},
   "source": [
    "6) What is the minimum number of hours a person works per week?"
   ]
  },
  {
   "cell_type": "code",
   "execution_count": 79,
   "id": "f0560d85",
   "metadata": {},
   "outputs": [],
   "source": [
    "min_hours = adult_data['hours-per-week'].min()"
   ]
  },
  {
   "cell_type": "code",
   "execution_count": 80,
   "id": "cbfca551",
   "metadata": {},
   "outputs": [
    {
     "data": {
      "text/plain": [
       "1"
      ]
     },
     "execution_count": 80,
     "metadata": {},
     "output_type": "execute_result"
    }
   ],
   "source": [
    "min_hours"
   ]
  },
  {
   "cell_type": "markdown",
   "id": "2045ec94",
   "metadata": {},
   "source": [
    "7) What percentage of the people who work the minimum number of hours per week have a salary of more than 50K?"
   ]
  },
  {
   "cell_type": "code",
   "execution_count": 81,
   "id": "a6e92e2f",
   "metadata": {},
   "outputs": [],
   "source": [
    "min_hours_people = adult_data[adult_data['hours-per-week'] == min_hours]"
   ]
  },
  {
   "cell_type": "code",
   "execution_count": 82,
   "id": "d8d54a14",
   "metadata": {},
   "outputs": [],
   "source": [
    "min_hours_percent = len(min_hours_people[min_hours_people.salary == '>50K']) / len(min_hours_people) * 100"
   ]
  },
  {
   "cell_type": "code",
   "execution_count": 83,
   "id": "1ad557cc",
   "metadata": {},
   "outputs": [
    {
     "data": {
      "text/plain": [
       "10.0"
      ]
     },
     "execution_count": 83,
     "metadata": {},
     "output_type": "execute_result"
    }
   ],
   "source": [
    "min_hours_percent"
   ]
  },
  {
   "cell_type": "markdown",
   "id": "72692463",
   "metadata": {},
   "source": [
    "8) What country has the highest percentage of people that earn >50K and what is that percentage?"
   ]
  },
  {
   "cell_type": "code",
   "execution_count": 93,
   "id": "2942edef",
   "metadata": {},
   "outputs": [
    {
     "name": "stdout",
     "output_type": "stream",
     "text": [
      "Iran 41.86046511627907\n"
     ]
    }
   ],
   "source": [
    "highest_percent = 0\n",
    "best_country = ''\n",
    "for country in adult_data['native-country'].unique():\n",
    "    percent_current = len(adult_data[(adult_data['native-country'] == country) & (adult_data.salary == '>50K')]) / len(adult_data[adult_data['native-country'] == country]) * 100\n",
    "    if percent_current > highest_percent:\n",
    "        highest_percent = percent_current\n",
    "        best_country = country\n",
    "        \n",
    "print(best_country, highest_percent)"
   ]
  },
  {
   "cell_type": "markdown",
   "id": "47405523",
   "metadata": {},
   "source": [
    "9) Identify the most popular occupation for those who earn >50K in India."
   ]
  },
  {
   "cell_type": "code",
   "execution_count": 97,
   "id": "ecca879a",
   "metadata": {},
   "outputs": [],
   "source": [
    "india_data_over_50K = adult_data[(adult_data['native-country'] == 'India') & (adult_data.salary == '>50K')]\n",
    "occupation_value_counts = india_data_over_50K.occupation.value_counts()"
   ]
  },
  {
   "cell_type": "code",
   "execution_count": 98,
   "id": "f67e4845",
   "metadata": {},
   "outputs": [
    {
     "data": {
      "text/plain": [
       "Prof-specialty      25\n",
       "Exec-managerial      8\n",
       "Tech-support         2\n",
       "Other-service        2\n",
       "Sales                1\n",
       "Transport-moving     1\n",
       "Adm-clerical         1\n",
       "Name: occupation, dtype: int64"
      ]
     },
     "execution_count": 98,
     "metadata": {},
     "output_type": "execute_result"
    }
   ],
   "source": [
    "occupation_value_counts"
   ]
  }
 ],
 "metadata": {
  "kernelspec": {
   "display_name": "Python 3",
   "language": "python",
   "name": "python3"
  },
  "language_info": {
   "codemirror_mode": {
    "name": "ipython",
    "version": 3
   },
   "file_extension": ".py",
   "mimetype": "text/x-python",
   "name": "python",
   "nbconvert_exporter": "python",
   "pygments_lexer": "ipython3",
   "version": "3.8.8"
  }
 },
 "nbformat": 4,
 "nbformat_minor": 5
}
